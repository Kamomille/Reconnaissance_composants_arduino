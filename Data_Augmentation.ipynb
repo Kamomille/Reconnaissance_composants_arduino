{
 "cells": [
  {
   "cell_type": "code",
   "execution_count": 3,
   "id": "ddb728d9",
   "metadata": {},
   "outputs": [],
   "source": [
    "import matplotlib.pyplot as plt\n",
    "import numpy as np\n",
    "import tensorflow as tf\n",
    "import tensorflow_datasets as tfds\n",
    "from tensorflow.keras import layers"
   ]
  },
  {
   "cell_type": "code",
   "execution_count": 7,
   "id": "ddf7f811",
   "metadata": {},
   "outputs": [],
   "source": [
    "path = \"D:/TRAVAIL/Arduino Factory/ApplicationMobile/ComponentRecognition/DownloadGoogleImages\""
   ]
  },
  {
   "cell_type": "code",
   "execution_count": 8,
   "id": "de7e1eca",
   "metadata": {},
   "outputs": [],
   "source": [
    "folder = path + \"/output\""
   ]
  },
  {
   "cell_type": "code",
   "execution_count": 9,
   "id": "b3069fff",
   "metadata": {},
   "outputs": [
    {
     "name": "stdout",
     "output_type": "stream",
     "text": [
      "Found 2025 files belonging to 6 classes.\n",
      "Found 251 files belonging to 6 classes.\n",
      "Found 259 files belonging to 6 classes.\n"
     ]
    }
   ],
   "source": [
    "img_height, img_width = 164, 164 #32, 32\n",
    "batch_size = 128 #20\n",
    "\n",
    "train_ds = tf.keras.utils.image_dataset_from_directory(\n",
    "    folder+\"/train\",\n",
    "    image_size = (img_height, img_width),\n",
    "    batch_size = batch_size\n",
    ")\n",
    "val_ds = tf.keras.utils.image_dataset_from_directory(\n",
    "    folder+\"/val\",\n",
    "    image_size = (img_height, img_width),\n",
    "    batch_size = batch_size\n",
    ")\n",
    "test_ds = tf.keras.utils.image_dataset_from_directory(\n",
    "    folder+\"/test\",\n",
    "    image_size = (img_height, img_width),\n",
    "    batch_size = batch_size\n",
    ")"
   ]
  },
  {
   "cell_type": "code",
   "execution_count": 22,
   "id": "50e1a5fc",
   "metadata": {},
   "outputs": [],
   "source": [
    "from keras.preprocessing.image import ImageDataGenerator\n",
    "from tensorflow.keras.utils import array_to_img, img_to_array, load_img\n",
    "\n",
    "# Initialising the ImageDataGenerator class.\n",
    "# We will pass in the augmentation parameters in the constructor.\n",
    "datagen = ImageDataGenerator(\n",
    "    rotation_range = 40,\n",
    "    shear_range = 0.2,\n",
    "    zoom_range = 0.2,\n",
    "    horizontal_flip = True,\n",
    "    brightness_range = (0.5, 1.5))\n",
    "\n",
    "# Loading a sample image\n",
    "img = load_img(r\"D:\\TRAVAIL\\Arduino Factory\\ApplicationMobile\\ComponentRecognition\\DownloadGoogleImages\\test\\c.jpg\")\n",
    "# Converting the input sample image to an array\n",
    "x = img_to_array(img)\n",
    "# Reshaping the input image\n",
    "x = x.reshape((1, ) + x.shape)\n",
    "\n",
    "# Generating and saving 5 augmented samples\n",
    "# using the above defined parameters.\n",
    "i = 0\n",
    "path_dir = r\"D:\\TRAVAIL\\Arduino Factory\\ApplicationMobile\\ComponentRecognition\\DownloadGoogleImages\\test\\preview_c\"\n",
    "for batch in datagen.flow(x, batch_size = 1, save_to_dir =path_dir, save_prefix ='image', save_format ='jpg'):\n",
    "    i += 1\n",
    "    if i > 5:\n",
    "        break\n"
   ]
  },
  {
   "cell_type": "code",
   "execution_count": null,
   "id": "31cadff4",
   "metadata": {},
   "outputs": [],
   "source": []
  }
 ],
 "metadata": {
  "kernelspec": {
   "display_name": "Python 3 (ipykernel)",
   "language": "python",
   "name": "python3"
  },
  "language_info": {
   "codemirror_mode": {
    "name": "ipython",
    "version": 3
   },
   "file_extension": ".py",
   "mimetype": "text/x-python",
   "name": "python",
   "nbconvert_exporter": "python",
   "pygments_lexer": "ipython3",
   "version": "3.9.7"
  }
 },
 "nbformat": 4,
 "nbformat_minor": 5
}
